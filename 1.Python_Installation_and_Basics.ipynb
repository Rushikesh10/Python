{
  "nbformat": 4,
  "nbformat_minor": 0,
  "metadata": {
    "colab": {
      "name": "Session 1.1 - Python-Installation and Basics",
      "provenance": [],
      "collapsed_sections": [],
      "authorship_tag": "ABX9TyOelQN7uKNcamQnXKPfS2j6",
      "include_colab_link": true
    },
    "kernelspec": {
      "name": "python3",
      "display_name": "Python 3"
    },
    "language_info": {
      "name": "python"
    }
  },
  "cells": [
    {
      "cell_type": "markdown",
      "metadata": {
        "id": "view-in-github",
        "colab_type": "text"
      },
      "source": [
        "<a href=\"https://colab.research.google.com/github/Rushikesh10/Python/blob/master/1.Python_Installation_and_Basics.ipynb\" target=\"_parent\"><img src=\"https://colab.research.google.com/assets/colab-badge.svg\" alt=\"Open In Colab\"/></a>"
      ]
    },
    {
      "cell_type": "code",
      "execution_count": null,
      "metadata": {
        "colab": {
          "base_uri": "https://localhost:8080/"
        },
        "id": "2BT7aw91IzeK",
        "outputId": "d23400c5-1ebd-438a-9dda-8e9ff4d2ffe5"
      },
      "outputs": [
        {
          "output_type": "stream",
          "name": "stdout",
          "text": [
            "7\n",
            "<class 'int'>\n"
          ]
        }
      ],
      "source": [
        "#Integers\n",
        "a=7\n",
        "print(a)\n",
        "print(type(a))"
      ]
    },
    {
      "cell_type": "code",
      "source": [
        "#Float\n",
        "x=1.6\n",
        "print(x)\n",
        "print(type(x))"
      ],
      "metadata": {
        "colab": {
          "base_uri": "https://localhost:8080/"
        },
        "id": "ACSi1OqDJUY1",
        "outputId": "e5679631-ba55-4d1e-8594-f7d1e6b5050e"
      },
      "execution_count": null,
      "outputs": [
        {
          "output_type": "stream",
          "name": "stdout",
          "text": [
            "1.6\n",
            "<class 'float'>\n"
          ]
        }
      ]
    },
    {
      "cell_type": "code",
      "source": [
        "#Boolean\n",
        "b1=True\n",
        "b2=False\n",
        "print(b1 and b2)\n",
        "type(b1)"
      ],
      "metadata": {
        "colab": {
          "base_uri": "https://localhost:8080/"
        },
        "id": "EQhqvVDhJ4KM",
        "outputId": "623f1006-e38a-4398-e7e0-95a020939f43"
      },
      "execution_count": null,
      "outputs": [
        {
          "output_type": "stream",
          "name": "stdout",
          "text": [
            "False\n"
          ]
        },
        {
          "output_type": "execute_result",
          "data": {
            "text/plain": [
              "bool"
            ]
          },
          "metadata": {},
          "execution_count": 10
        }
      ]
    },
    {
      "cell_type": "code",
      "source": [
        "#String\n",
        "s1=\"My name is rushikesh patil\"\n",
        "print(s1)\n",
        "type(s1)"
      ],
      "metadata": {
        "colab": {
          "base_uri": "https://localhost:8080/"
        },
        "id": "feg4lpQiKGMT",
        "outputId": "16cae6dd-a7c8-400d-bcb6-c4fa846d6007"
      },
      "execution_count": null,
      "outputs": [
        {
          "output_type": "stream",
          "name": "stdout",
          "text": [
            "My name is rushikesh patil\n"
          ]
        },
        {
          "output_type": "execute_result",
          "data": {
            "text/plain": [
              "str"
            ]
          },
          "metadata": {},
          "execution_count": 13
        }
      ]
    },
    {
      "cell_type": "code",
      "source": [
        "#Complex\n",
        "j=1.0+3.6j\n",
        "print(j)\n",
        "print(type(j))\n",
        "print(j.real)\n",
        "print(j.imag)"
      ],
      "metadata": {
        "colab": {
          "base_uri": "https://localhost:8080/"
        },
        "id": "3GGaohUbKSHJ",
        "outputId": "2ccf4159-fd76-42cd-cb0d-fc198cadaf6c"
      },
      "execution_count": null,
      "outputs": [
        {
          "output_type": "stream",
          "name": "stdout",
          "text": [
            "(1+3.6j)\n",
            "<class 'complex'>\n",
            "1.0\n",
            "3.6\n"
          ]
        }
      ]
    },
    {
      "cell_type": "code",
      "source": [
        "#Variable\n",
        "a=10\n",
        "print(a)"
      ],
      "metadata": {
        "colab": {
          "base_uri": "https://localhost:8080/"
        },
        "id": "U2nr5L8BLMeG",
        "outputId": "4796aded-f6fe-48f2-fcfa-ab92cd781206"
      },
      "execution_count": null,
      "outputs": [
        {
          "output_type": "stream",
          "name": "stdout",
          "text": [
            "10\n"
          ]
        }
      ]
    },
    {
      "cell_type": "code",
      "source": [
        "#Dynamic Typing\n",
        "a=10\n",
        "a\n",
        "a='ten'\n",
        "a"
      ],
      "metadata": {
        "colab": {
          "base_uri": "https://localhost:8080/",
          "height": 36
        },
        "id": "nYfZHWRzMSza",
        "outputId": "9fd58ad7-d2f0-4150-ecb6-f72107314f9a"
      },
      "execution_count": null,
      "outputs": [
        {
          "output_type": "execute_result",
          "data": {
            "text/plain": [
              "'ten'"
            ],
            "application/vnd.google.colaboratory.intrinsic+json": {
              "type": "string"
            }
          },
          "metadata": {},
          "execution_count": 23
        }
      ]
    },
    {
      "cell_type": "code",
      "source": [
        "#Strong Typing\n",
        "'Day'+ str(1)"
      ],
      "metadata": {
        "colab": {
          "base_uri": "https://localhost:8080/",
          "height": 36
        },
        "id": "0WGW2SF7MY_R",
        "outputId": "f4737616-9aed-410d-cef6-633ddb30e92d"
      },
      "execution_count": null,
      "outputs": [
        {
          "output_type": "execute_result",
          "data": {
            "text/plain": [
              "'Day1'"
            ],
            "application/vnd.google.colaboratory.intrinsic+json": {
              "type": "string"
            }
          },
          "metadata": {},
          "execution_count": 24
        }
      ]
    },
    {
      "cell_type": "code",
      "source": [
        "#Boolean Expression\n",
        "#AND\n",
        "one=True and True\n",
        "two=True and False\n",
        "three= False and True\n",
        "four=False and False\n",
        "print(one,two,three,four)\n",
        "\n",
        "#OR\n",
        "one= True or True \n",
        "two= True or False\n",
        "three=False or True\n",
        "four=False or False\n",
        "print(one,two,three,four)\n",
        "\n",
        "#Not\n",
        "one=not True\n",
        "two = not False\n",
        "print(one,two)\n",
        "\n",
        "#is\n",
        "'a' is 'a'\n",
        "True is False\n"
      ],
      "metadata": {
        "colab": {
          "base_uri": "https://localhost:8080/"
        },
        "id": "SRAmGJvvMdRi",
        "outputId": "600321df-22e2-459a-d1c7-8b8dff17b44a"
      },
      "execution_count": null,
      "outputs": [
        {
          "output_type": "stream",
          "name": "stdout",
          "text": [
            "True False False False\n",
            "True True True False\n",
            "False True\n"
          ]
        },
        {
          "output_type": "execute_result",
          "data": {
            "text/plain": [
              "False"
            ]
          },
          "metadata": {},
          "execution_count": 29
        }
      ]
    },
    {
      "cell_type": "code",
      "source": [
        "#Branching (if/elif/else)\n",
        "\n",
        "i=4\n",
        "if(i<3):\n",
        "  print(i,\" is less than 3\")\n",
        "  if(i<2):\n",
        "    print(i,\" is less than 2\")\n",
        "else:\n",
        "  print(i,\"is greater than 3\")"
      ],
      "metadata": {
        "colab": {
          "base_uri": "https://localhost:8080/"
        },
        "id": "S3VpVOFKNHop",
        "outputId": "1f6e4c8f-2ab0-46ff-c4b8-e5529885c967"
      },
      "execution_count": null,
      "outputs": [
        {
          "output_type": "stream",
          "name": "stdout",
          "text": [
            "4 is greater than 3\n"
          ]
        }
      ]
    },
    {
      "cell_type": "code",
      "source": [
        "#List\n",
        "l=[]\n",
        "type(l)\n",
        "l=list()\n",
        "type(l)"
      ],
      "metadata": {
        "id": "_Z0KA80ROOZy",
        "colab": {
          "base_uri": "https://localhost:8080/"
        },
        "outputId": "e5a00e42-277a-4ded-8ea0-c5ceaab5ca6d"
      },
      "execution_count": null,
      "outputs": [
        {
          "output_type": "execute_result",
          "data": {
            "text/plain": [
              "list"
            ]
          },
          "metadata": {},
          "execution_count": 6
        }
      ]
    },
    {
      "cell_type": "code",
      "source": [
        "l=()\n",
        "type(l)"
      ],
      "metadata": {
        "colab": {
          "base_uri": "https://localhost:8080/"
        },
        "id": "5Jg0ZrJhyTyd",
        "outputId": "b34a78a6-3214-4b5a-9e28-099548473b03"
      },
      "execution_count": null,
      "outputs": [
        {
          "output_type": "execute_result",
          "data": {
            "text/plain": [
              "tuple"
            ]
          },
          "metadata": {},
          "execution_count": 7
        }
      ]
    },
    {
      "cell_type": "code",
      "source": [
        "l1=[\"Rushi\",\"Arun\",\"Patil\"]\n",
        "l2=[\"Arun\",\"Rambhau\",\"Patil\"]\n",
        "l1+l2"
      ],
      "metadata": {
        "colab": {
          "base_uri": "https://localhost:8080/"
        },
        "id": "R-KPPtZIydiD",
        "outputId": "e12b39fa-89f4-482c-a09d-a925f8bba1f5"
      },
      "execution_count": null,
      "outputs": [
        {
          "output_type": "execute_result",
          "data": {
            "text/plain": [
              "['Rushi', 'Arun', 'Patil', 'Arun', 'Rambhau', 'Patil']"
            ]
          },
          "metadata": {},
          "execution_count": 8
        }
      ]
    },
    {
      "cell_type": "code",
      "source": [
        "l3=list(\"Rushikesh\")\n",
        "l3"
      ],
      "metadata": {
        "colab": {
          "base_uri": "https://localhost:8080/"
        },
        "id": "2Hrv8N2FzDIc",
        "outputId": "c35db05b-a149-404d-8333-3651af6fc9fb"
      },
      "execution_count": null,
      "outputs": [
        {
          "output_type": "execute_result",
          "data": {
            "text/plain": [
              "['R', 'u', 's', 'h', 'i', 'k', 'e', 's', 'h']"
            ]
          },
          "metadata": {},
          "execution_count": 9
        }
      ]
    },
    {
      "cell_type": "code",
      "source": [
        "for i in l3:\n",
        "  print(i)"
      ],
      "metadata": {
        "colab": {
          "base_uri": "https://localhost:8080/"
        },
        "id": "4cQCB_pbzQCq",
        "outputId": "f6340094-2279-445b-c94c-7de6da624ad5"
      },
      "execution_count": null,
      "outputs": [
        {
          "output_type": "stream",
          "name": "stdout",
          "text": [
            "R\n",
            "u\n",
            "s\n",
            "h\n",
            "i\n",
            "k\n",
            "e\n",
            "s\n",
            "h\n"
          ]
        }
      ]
    },
    {
      "cell_type": "code",
      "source": [
        "#Loops\n",
        "# Program to find the sum of all numbers stored in a list\n",
        "numbers=[10,20,2,34,23,56,6,45,4]\n",
        "sum=0\n",
        "for i in numbers:\n",
        "  sum=sum+i\n",
        "print(sum)"
      ],
      "metadata": {
        "colab": {
          "base_uri": "https://localhost:8080/"
        },
        "id": "eJULyoDNzVfS",
        "outputId": "9e411af7-dbc7-48bd-949f-7088001021dc"
      },
      "execution_count": null,
      "outputs": [
        {
          "output_type": "stream",
          "name": "stdout",
          "text": [
            "200\n"
          ]
        }
      ]
    },
    {
      "cell_type": "code",
      "source": [
        "numbers=[10,20,454,53,53,5,55,64,32]\n",
        "for i in numbers:\n",
        "  print(i)\n",
        "else:\n",
        "  print(\"Done\")"
      ],
      "metadata": {
        "colab": {
          "base_uri": "https://localhost:8080/"
        },
        "id": "wMBm42wDz0fk",
        "outputId": "47e3af4e-c886-4a7e-82e4-0670825adfc8"
      },
      "execution_count": null,
      "outputs": [
        {
          "output_type": "stream",
          "name": "stdout",
          "text": [
            "10\n",
            "20\n",
            "454\n",
            "53\n",
            "53\n",
            "5\n",
            "55\n",
            "64\n",
            "32\n",
            "Done\n"
          ]
        }
      ]
    },
    {
      "cell_type": "code",
      "source": [
        "#While Loop\n",
        "#Program to add natural number upto n.\n",
        "n=10\n",
        "sum=0\n",
        "i=1\n",
        "while(i<=n):\n",
        "  sum=sum+i\n",
        "  i=i+1\n",
        "print(sum)"
      ],
      "metadata": {
        "colab": {
          "base_uri": "https://localhost:8080/"
        },
        "id": "p7S5JPd30OOh",
        "outputId": "63821808-ef70-4185-a882-2155ecd6f9ab"
      },
      "execution_count": null,
      "outputs": [
        {
          "output_type": "stream",
          "name": "stdout",
          "text": [
            "55\n"
          ]
        }
      ]
    },
    {
      "cell_type": "code",
      "source": [
        "#Range\n",
        "range(6)"
      ],
      "metadata": {
        "colab": {
          "base_uri": "https://localhost:8080/"
        },
        "id": "d3BqNWOLIQ8m",
        "outputId": "ed223ce4-e4b0-425c-9b64-342725e4db22"
      },
      "execution_count": null,
      "outputs": [
        {
          "output_type": "execute_result",
          "data": {
            "text/plain": [
              "range(0, 6)"
            ]
          },
          "metadata": {},
          "execution_count": 2
        }
      ]
    },
    {
      "cell_type": "code",
      "source": [
        "list(range(10))"
      ],
      "metadata": {
        "colab": {
          "base_uri": "https://localhost:8080/"
        },
        "id": "YsbHu66iJUsA",
        "outputId": "8c58e6fa-a63d-49a0-9928-cc961b5cf9e5"
      },
      "execution_count": null,
      "outputs": [
        {
          "output_type": "execute_result",
          "data": {
            "text/plain": [
              "[0, 1, 2, 3, 4, 5, 6, 7, 8, 9]"
            ]
          },
          "metadata": {},
          "execution_count": 3
        }
      ]
    },
    {
      "cell_type": "code",
      "source": [
        "list(range(8,2,-2))"
      ],
      "metadata": {
        "colab": {
          "base_uri": "https://localhost:8080/"
        },
        "id": "qG3ohUH5JZCI",
        "outputId": "49b26978-cd67-4254-a66e-836565d6a427"
      },
      "execution_count": null,
      "outputs": [
        {
          "output_type": "execute_result",
          "data": {
            "text/plain": [
              "[8, 6, 4]"
            ]
          },
          "metadata": {},
          "execution_count": 5
        }
      ]
    },
    {
      "cell_type": "code",
      "source": [
        "list(range(2,20,2))"
      ],
      "metadata": {
        "colab": {
          "base_uri": "https://localhost:8080/"
        },
        "id": "MaIL4AhfJcgH",
        "outputId": "1052f905-2599-4de8-a469-1938fb6447df"
      },
      "execution_count": null,
      "outputs": [
        {
          "output_type": "execute_result",
          "data": {
            "text/plain": [
              "[2, 4, 6, 8, 10, 12, 14, 16, 18]"
            ]
          },
          "metadata": {},
          "execution_count": 6
        }
      ]
    },
    {
      "cell_type": "code",
      "source": [
        "# Program to iterate through a list using indexing\n",
        "genre=['pop','jazz','rock','sapna']\n",
        "\n",
        "# iterate over the list using index\n",
        "for i in range(len(genre)-1):\n",
        "  print(genre[i])"
      ],
      "metadata": {
        "colab": {
          "base_uri": "https://localhost:8080/"
        },
        "id": "-71L4nEUJmyB",
        "outputId": "96886ab6-3f9b-4bb6-db34-8411db2ecdba"
      },
      "execution_count": null,
      "outputs": [
        {
          "output_type": "stream",
          "name": "stdout",
          "text": [
            "pop\n",
            "jazz\n",
            "rock\n"
          ]
        }
      ]
    },
    {
      "cell_type": "code",
      "source": [
        "#Break Statement\n",
        "for val in \"string\":\n",
        "  if val=='i':\n",
        "    break\n",
        "  print(val)\n",
        "print(\"The end\")"
      ],
      "metadata": {
        "colab": {
          "base_uri": "https://localhost:8080/"
        },
        "id": "5u5Zwua9KV1p",
        "outputId": "31d9ad01-2dcf-48f1-f8a5-86a59dd9a502"
      },
      "execution_count": null,
      "outputs": [
        {
          "output_type": "stream",
          "name": "stdout",
          "text": [
            "s\n",
            "t\n",
            "r\n",
            "The end\n"
          ]
        }
      ]
    },
    {
      "cell_type": "code",
      "source": [
        "#Continue Statement\n",
        "for val in \"string\":\n",
        "  if val==\"i\":\n",
        "    continue\n",
        "  print(val)\n",
        "print(\"The end\")"
      ],
      "metadata": {
        "colab": {
          "base_uri": "https://localhost:8080/"
        },
        "id": "F08TKAP0YG9g",
        "outputId": "758e35e7-3a25-42ff-e3bb-61b63ee1a688"
      },
      "execution_count": null,
      "outputs": [
        {
          "output_type": "stream",
          "name": "stdout",
          "text": [
            "s\n",
            "t\n",
            "r\n",
            "n\n",
            "g\n",
            "The end\n"
          ]
        }
      ]
    },
    {
      "cell_type": "code",
      "source": [
        "# Program to take the input string from the user.\n",
        "name=input(\"what is your name\")\n",
        "print(name)"
      ],
      "metadata": {
        "colab": {
          "base_uri": "https://localhost:8080/"
        },
        "id": "ba13aKpgYcGq",
        "outputId": "460825d4-bc69-4691-8b98-3848d69986b1"
      },
      "execution_count": null,
      "outputs": [
        {
          "output_type": "stream",
          "name": "stdout",
          "text": [
            "what is your nameRushi\n",
            "Rushi\n"
          ]
        }
      ]
    },
    {
      "cell_type": "code",
      "source": [
        "# Program to read integers from user\n",
        "age=int(input(\"What is your age\"))\n",
        "print(age)\n"
      ],
      "metadata": {
        "colab": {
          "base_uri": "https://localhost:8080/"
        },
        "id": "7bvDc6ofY1tO",
        "outputId": "aed7edea-6b40-4b25-aa06-f3b129811077"
      },
      "execution_count": null,
      "outputs": [
        {
          "output_type": "stream",
          "name": "stdout",
          "text": [
            "What is your age15\n",
            "15\n"
          ]
        }
      ]
    },
    {
      "cell_type": "code",
      "source": [
        ""
      ],
      "metadata": {
        "id": "phkFlSIXaORH"
      },
      "execution_count": null,
      "outputs": []
    }
  ]
}