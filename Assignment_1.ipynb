{
  "nbformat": 4,
  "nbformat_minor": 0,
  "metadata": {
    "colab": {
      "name": "Assignment 1",
      "provenance": [],
      "authorship_tag": "ABX9TyMeFct3+wk+3ef6JwCUHr+b",
      "include_colab_link": true
    },
    "kernelspec": {
      "name": "python3",
      "display_name": "Python 3"
    },
    "language_info": {
      "name": "python"
    }
  },
  "cells": [
    {
      "cell_type": "markdown",
      "metadata": {
        "id": "view-in-github",
        "colab_type": "text"
      },
      "source": [
        "<a href=\"https://colab.research.google.com/github/Rushikesh10/Python/blob/master/Assignment_1.ipynb\" target=\"_parent\"><img src=\"https://colab.research.google.com/assets/colab-badge.svg\" alt=\"Open In Colab\"/></a>"
      ]
    },
    {
      "cell_type": "markdown",
      "source": [
        "2.\n",
        "Write a program which will find all such numbers which are divisible by 7 but are not a multiple\n",
        "of 5, between 2000 and 3200 (both included). The numbers obtained should be printed in a\n",
        "comma-separated sequence on a single line."
      ],
      "metadata": {
        "id": "R2sGHhquc_8m"
      }
    },
    {
      "cell_type": "code",
      "execution_count": 11,
      "metadata": {
        "colab": {
          "base_uri": "https://localhost:8080/"
        },
        "id": "33cY2KZbbDEw",
        "outputId": "4301c2c3-0cd0-4769-b4b0-3bb3dc8278bd"
      },
      "outputs": [
        {
          "output_type": "stream",
          "name": "stdout",
          "text": [
            "2002,2009,2016,2023,2037,2044,2051,2058,2072,2079,2086,2093,2107,2114,2121,2128,2142,2149,2156,2163,2177,2184,2191,2198,2212,2219,2226,2233,2247,2254,2261,2268,2282,2289,2296,2303,2317,2324,2331,2338,2352,2359,2366,2373,2387,2394,2401,2408,2422,2429,2436,2443,2457,2464,2471,2478,2492,2499,2506,2513,2527,2534,2541,2548,2562,2569,2576,2583,2597,2604,2611,2618,2632,2639,2646,2653,2667,2674,2681,2688,2702,2709,2716,2723,2737,2744,2751,2758,2772,2779,2786,2793,2807,2814,2821,2828,2842,2849,2856,2863,2877,2884,2891,2898,2912,2919,2926,2933,2947,2954,2961,2968,2982,2989,2996,3003,3017,3024,3031,3038,3052,3059,3066,3073,3087,3094,3101,3108,3122,3129,3136,3143,3157,3164,3171,3178,3192,3199\n"
          ]
        }
      ],
      "source": [
        "l=[]\n",
        "for i in range(2000,3201):\n",
        "  if((i%7==0) and (i%5!=0)):\n",
        "    l.append(str(i))\n",
        "print(\",\".join(l))    \n"
      ]
    },
    {
      "cell_type": "markdown",
      "source": [
        "3.\n",
        "Write a Python program to accept the user's first and last name and then getting them printed in\n",
        "the the reverse order with a space between first name and last name.\n"
      ],
      "metadata": {
        "id": "KqM55SAPfxK1"
      }
    },
    {
      "cell_type": "code",
      "source": [
        "fs=input(\"Enter first name\")\n",
        "ls=input(\"Enter last name\")\n",
        "fs=fs[::-1]\n",
        "ls=ls[::-1]\n",
        "print(fs,\" \",ls)"
      ],
      "metadata": {
        "colab": {
          "base_uri": "https://localhost:8080/"
        },
        "id": "c2C-Q2ISdbjw",
        "outputId": "52fdb180-f968-4691-e5f0-7496016afe85"
      },
      "execution_count": 12,
      "outputs": [
        {
          "output_type": "stream",
          "name": "stdout",
          "text": [
            "Enter first nameRushikesh\n",
            "Enter last namePatil\n",
            "hsekihsuR   litaP\n"
          ]
        }
      ]
    },
    {
      "cell_type": "markdown",
      "source": [
        "4.\n",
        "Write a Python program to find the volume of a sphere with diameter 12 cm.\n",
        "Formula: V=4/3 * π * r\n",
        "3"
      ],
      "metadata": {
        "id": "SJFX_pXegQN_"
      }
    },
    {
      "cell_type": "code",
      "source": [
        "import math\n",
        "d=12\n",
        "r=d/2\n",
        "V=((4/3)*math.pi*(r**3))\n",
        "print(V)"
      ],
      "metadata": {
        "colab": {
          "base_uri": "https://localhost:8080/"
        },
        "id": "h4Ge8gcTezn4",
        "outputId": "fb7451b7-c5c1-49c7-9d29-1756a7306180"
      },
      "execution_count": 17,
      "outputs": [
        {
          "output_type": "stream",
          "name": "stdout",
          "text": [
            "904.7786842338603\n"
          ]
        }
      ]
    },
    {
      "cell_type": "markdown",
      "source": [
        "Task 2:\n",
        "1.\n",
        "Write a program which accepts a sequence of comma-separated numbers from console and\n",
        "generate a list"
      ],
      "metadata": {
        "id": "7YPgr4Uzg3I9"
      }
    },
    {
      "cell_type": "code",
      "source": [
        "\n",
        "num=input(\"Enter Number\").split(\",\")\n",
        "print(num)\n"
      ],
      "metadata": {
        "colab": {
          "base_uri": "https://localhost:8080/"
        },
        "id": "_KvR6eqzgZZN",
        "outputId": "96f8e1d1-4bb6-4047-b2f9-88c43ca2acef"
      },
      "execution_count": 20,
      "outputs": [
        {
          "output_type": "stream",
          "name": "stdout",
          "text": [
            "Enter Number1,2,3,4,5\n",
            "['1', '2', '3', '4', '5']\n"
          ]
        }
      ]
    },
    {
      "cell_type": "markdown",
      "source": [
        "2.\n",
        "Create the below pattern using nested for loop in Python.\n",
        "*\n",
        "* *\n",
        "* * *\n",
        "* * * *\n",
        "* * * * *\n",
        "* * * *\n",
        "* * *\n",
        "* *\n",
        "*\n"
      ],
      "metadata": {
        "id": "GQdJMZVShYdw"
      }
    },
    {
      "cell_type": "code",
      "source": [
        "for i in range(1,6):\n",
        "  print(i*\"*\")\n",
        "for i in range(5,0,-1):\n",
        "  print(i*\"*\")"
      ],
      "metadata": {
        "colab": {
          "base_uri": "https://localhost:8080/"
        },
        "id": "baxZEWWCgZs2",
        "outputId": "2a5d32a7-21de-4fda-d994-b1345ee87d34"
      },
      "execution_count": 28,
      "outputs": [
        {
          "output_type": "stream",
          "name": "stdout",
          "text": [
            "*\n",
            "**\n",
            "***\n",
            "****\n",
            "*****\n",
            "*****\n",
            "****\n",
            "***\n",
            "**\n",
            "*\n"
          ]
        }
      ]
    },
    {
      "cell_type": "markdown",
      "source": [
        "3.\n",
        "Write a Python program to reverse a word after accepting the input from the user.\n",
        "Sample Output:\n",
        "Input word: AcadGild\n",
        "Output: dilGdacA"
      ],
      "metadata": {
        "id": "zhgM3eIKh73o"
      }
    },
    {
      "cell_type": "code",
      "source": [
        "word=input(\"Enter a word \")\n",
        "w=word[::-1]\n",
        "print(w)"
      ],
      "metadata": {
        "colab": {
          "base_uri": "https://localhost:8080/"
        },
        "id": "mXwE_DzUhFVZ",
        "outputId": "902e951b-f863-4519-9dfe-d0b05cd95b49"
      },
      "execution_count": 32,
      "outputs": [
        {
          "output_type": "stream",
          "name": "stdout",
          "text": [
            "Enter a word Rushikesh\n",
            "hsekihsuR\n"
          ]
        }
      ]
    },
    {
      "cell_type": "code",
      "source": [
        ""
      ],
      "metadata": {
        "id": "luvOP1CSiCwQ"
      },
      "execution_count": null,
      "outputs": []
    }
  ]
}